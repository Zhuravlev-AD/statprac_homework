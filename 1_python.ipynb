{
  "cells": [
    {
      "cell_type": "markdown",
      "metadata": {
        "id": "sSos7q2_oBGj"
      },
      "source": [
        "## Problem 1"
      ]
    },
    {
      "cell_type": "markdown",
      "metadata": {
        "id": "NiX8ePp0oBGk"
      },
      "source": [
        "Make a tuple containing natural numbers, the square of which is a multiple of 3, 4, but not a multiple of 8 and not exceeding 12345."
      ]
    },
    {
      "cell_type": "code",
      "execution_count": null,
      "metadata": {
        "id": "XmPHEnS9oBGk",
        "colab": {
          "base_uri": "https://localhost:8080/"
        },
        "outputId": "87fe1896-f41e-42b7-add3-b659869e2a41"
      },
      "outputs": [
        {
          "output_type": "execute_result",
          "data": {
            "text/plain": [
              "(6, 18, 30, 42, 54, 66, 78, 90, 102)"
            ]
          },
          "metadata": {},
          "execution_count": 3
        }
      ],
      "source": [
        "tup = tuple(x for x in range(12345) if ((x**2 % 3 == 0) and (x**2 % 4 == 0) and (x**2 % 8 != 0) and (x**2 <= 12345)))\n",
        "tup"
      ]
    },
    {
      "cell_type": "markdown",
      "metadata": {
        "id": "OZBeUyxcoBGk"
      },
      "source": [
        "## Problem 2"
      ]
    },
    {
      "cell_type": "markdown",
      "metadata": {
        "id": "zIfvg22noBGk"
      },
      "source": [
        "\n",
        "Write a function that takes a two-dimensional array and a string as input and returns an array rotated 90 degrees counterclockwise if the string 'left' was passed, and clockwise if the string 'right' was passed.\n",
        "\n",
        "Example for input: $\\begin{bmatrix} 1 & 2 & 3 \\\\ 4 & 5 & 6 \\\\ 7 & 8 & 9 \\end{bmatrix}$.\\\n",
        "If the string 'left' is passed, the function should return $\\begin{bmatrix} 3 & 6 & 9 \\\\ 2 & 5 & 8 \\\\ 1 & 4 & 7 \\end{bmatrix}$, and if the string 'right' is passed, the function should return $\\begin{bmatrix} 7 & 4 & 1 \\\\ 8 & 5 & 2 \\\\ 9 & 6 & 3 \\end{bmatrix}$."
      ]
    },
    {
      "cell_type": "code",
      "execution_count": null,
      "metadata": {
        "id": "HNvy_cRjoBGk",
        "colab": {
          "base_uri": "https://localhost:8080/"
        },
        "outputId": "06b37089-de72-4940-da26-04aba8f2ade2"
      },
      "outputs": [
        {
          "name": "stdout",
          "output_type": "stream",
          "text": [
            "left\n"
          ]
        },
        {
          "output_type": "execute_result",
          "data": {
            "text/plain": [
              "[[3, 6, 9], [2, 5, 8], [1, 4, 7]]"
            ]
          },
          "metadata": {},
          "execution_count": 10
        }
      ],
      "source": [
        "def rotate_matrix(matrix, direction):\n",
        "    if direction == 'right':\n",
        "        return [list(row) for row in zip(*matrix[::-1])]\n",
        "    else:\n",
        "        return [list(row) for row in list(zip(*matrix))[::-1]]\n",
        "\n",
        "input_matrix = [[1, 2, 3],[4, 5, 6],[7, 8, 9]]\n",
        "direction = input()  #решаем, в какую сторону будем поворачивать матрицу(left/right)\n",
        "direction\n",
        "result = rotate_matrix(input_matrix, direction)\n",
        "result"
      ]
    },
    {
      "cell_type": "markdown",
      "metadata": {
        "id": "_dY-PFlCoBGk"
      },
      "source": [
        "## Problem 3"
      ]
    },
    {
      "cell_type": "markdown",
      "metadata": {
        "id": "3CaIwcm0oBGk"
      },
      "source": [
        "Write a function that takes a string as input and returns a dictionary containing the number of occurrences of each character in the string.\n",
        "\n",
        "Example for the string 'hello, world!': {'h': 1, 'e': 1, 'l': 3, 'o': 2, ',': 1, ' ': 1, 'w': 1, 'r': 1, 'd': 1, '!': 1}."
      ]
    },
    {
      "cell_type": "code",
      "execution_count": null,
      "metadata": {
        "id": "rlSbHusZoBGk",
        "colab": {
          "base_uri": "https://localhost:8080/"
        },
        "outputId": "17d05966-4366-40f0-9fc8-4aa0d97e4f27"
      },
      "outputs": [
        {
          "name": "stdout",
          "output_type": "stream",
          "text": [
            "hello world\n"
          ]
        },
        {
          "output_type": "execute_result",
          "data": {
            "text/plain": [
              "{'h': 1, 'e': 1, 'l': 3, 'o': 2, ' ': 1, 'w': 1, 'r': 1, 'd': 1}"
            ]
          },
          "metadata": {},
          "execution_count": 13
        }
      ],
      "source": [
        "def count_letters(string):\n",
        "    letters = {}\n",
        "    for char in string:\n",
        "        if char in letters:\n",
        "            letters[char] += 1\n",
        "        else:\n",
        "            letters[char] = 1\n",
        "    return letters\n",
        "\n",
        "input_string = input()\n",
        "result = count_letters(input_string)\n",
        "result"
      ]
    },
    {
      "cell_type": "markdown",
      "metadata": {
        "id": "KBGJ7PeboBGk"
      },
      "source": [
        "## Problem 4"
      ]
    },
    {
      "cell_type": "markdown",
      "metadata": {
        "id": "XS4Seqa9oBGk"
      },
      "source": [
        "### Implementing a Library Management System\n",
        "\n",
        "#### Description\n",
        "\n",
        "You are required to design and implement a system for managing books and users in a library. The system should allow for the management of books (adding, deleting, searching by various criteria) and users (registration, deletion, searching), as well as tracking the history of interactions between them (issuing and returning books).\n",
        "\n",
        "#### Tasks\n",
        "\n",
        "1. **`Book` Class**:\n",
        "   - Attributes: title, author, year of publication, ISBN, number of copies.\n",
        "   - Methods: constructor, methods to get information about the book, method to change the number of copies (when issuing and returning books).\n",
        "\n",
        "2. **`User` Class**:\n",
        "   - Attributes: user name, library card number, list of borrowed books.\n",
        "   - Methods: constructor, methods for user registration, methods for adding and removing books from the borrowed list.\n",
        "\n",
        "3. **`Library` Class**:\n",
        "   - Attributes: list of books, list of users, transaction history (who, when, which book was borrowed and returned).\n",
        "   - Methods: constructor, methods for adding and deleting books and users, methods for issuing and returning books, searching for books and users by various criteria, method to display the transaction history.\n",
        "\n",
        "#### Assignment\n",
        "\n",
        "1. Implement the `Book`, `User`, and `Library` classes with the specified attributes and methods.\n",
        "2. Create several books and users, and add them to the library system.\n",
        "3. Implement scenarios for issuing books to users and their return.\n",
        "4. Display the transaction history to show how books were issued and returned.\n"
      ]
    },
    {
      "cell_type": "code",
      "execution_count": null,
      "metadata": {
        "id": "IbqwtWWsoBGl"
      },
      "outputs": [],
      "source": [
        "# Your solution here"
      ]
    },
    {
      "cell_type": "markdown",
      "metadata": {
        "id": "0c8zRbSIoBGl"
      },
      "source": [
        "## Problem 5*"
      ]
    },
    {
      "cell_type": "markdown",
      "metadata": {
        "id": "8ltdzRmOoBGl"
      },
      "source": [
        "Explain why list `b` changes after the execution of the following code:\n",
        "\n",
        "```python\n",
        "a = [1, 2, 3]\n",
        "b = a\n",
        "a[0] = 4\n",
        "print(b)\n",
        "```"
      ]
    },
    {
      "cell_type": "markdown",
      "metadata": {
        "id": "RxgnUfFPoBGl"
      },
      "source": [
        "> Write your answer in markdown cell after:"
      ]
    },
    {
      "cell_type": "markdown",
      "source": [
        "При изменении а изменится и b, так как в b содержится ссылка на соответствующую ячейку памяти, а не копия а."
      ],
      "metadata": {
        "id": "MgFpuv09lveQ"
      }
    },
    {
      "cell_type": "markdown",
      "metadata": {
        "id": "TmXLkc_foBGl"
      },
      "source": [
        "## Problem 6*"
      ]
    },
    {
      "cell_type": "markdown",
      "metadata": {
        "id": "Gn0ibiVCoBGl"
      },
      "source": [
        "Let\n",
        "$$A = \\sum_{i=1}^{10000} \\frac{1}{i^2},\\quad B=\\sum_{i=10000}^{1} \\frac{1}{i^2}.$$\n",
        "Calculate the values of $A$ and $B$ and compare them. What do you observe? Explain why this happens. What is the best way to calculate the value of $\\sum\\limits_{i=1}^{10000} \\dfrac{1}{i^2}$?"
      ]
    },
    {
      "cell_type": "code",
      "execution_count": null,
      "metadata": {
        "id": "3q93uGqFoBGl",
        "colab": {
          "base_uri": "https://localhost:8080/"
        },
        "outputId": "8df5dfb2-ec9b-48d4-d52a-1b1debd3d53f"
      },
      "outputs": [
        {
          "output_type": "stream",
          "name": "stdout",
          "text": [
            "1.6448340718480652\n",
            "1.6448340718480596\n"
          ]
        }
      ],
      "source": [
        "def sums():\n",
        "    sum_up = 0\n",
        "    sum_down = 0\n",
        "\n",
        "    for i in range(1, 10001):\n",
        "        sum_up += 1 / (i**2)\n",
        "    print(sum_up)\n",
        "    for i in range(10000, 0, -1):\n",
        "        sum_down += 1 / (i**2)\n",
        "    print(sum_down)\n",
        "\n",
        "sums()"
      ]
    },
    {
      "cell_type": "markdown",
      "source": [
        "При втором способе суммирования результат должен быть точнее, тк если изначально положить в переменную большое значение, то бит под мантиссу изначально будет выделено меньше, что в последствии приводит к накоплению большей погрешности"
      ],
      "metadata": {
        "id": "Yxo72zyCn7vU"
      }
    }
  ],
  "metadata": {
    "colab": {
      "provenance": []
    },
    "kernelspec": {
      "display_name": "Python 3",
      "language": "python",
      "name": "python3"
    },
    "language_info": {
      "codemirror_mode": {
        "name": "ipython",
        "version": 3
      },
      "file_extension": ".py",
      "mimetype": "text/x-python",
      "name": "python",
      "nbconvert_exporter": "python",
      "pygments_lexer": "ipython3",
      "version": "3.10.6"
    }
  },
  "nbformat": 4,
  "nbformat_minor": 0
}